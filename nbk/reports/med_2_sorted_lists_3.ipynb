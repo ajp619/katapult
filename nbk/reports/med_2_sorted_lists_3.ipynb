{
 "cells": [
  {
   "cell_type": "raw",
   "id": "b2346dd6-7dce-4ddc-a0d4-2568b5a5a6ee",
   "metadata": {},
   "source": [
    "---\n",
    "format:\n",
    "  html:\n",
    "    embed-resources: true\n",
    "    code-fold: true\n",
    "---"
   ]
  },
  {
   "cell_type": "markdown",
   "id": "06b244da-84b8-46bd-b227-398249f570ef",
   "metadata": {},
   "source": [
    "# Median of 2 sorted lists\n",
    "\n",
    "Given two sorted lists, find the median of the combined lists."
   ]
  },
  {
   "cell_type": "markdown",
   "id": "5a1d742a-fb46-4c5a-a4ca-50b6e5613520",
   "metadata": {},
   "source": [
    "## Algorithm"
   ]
  },
  {
   "cell_type": "markdown",
   "id": "ad2efcba-b5e1-439c-96e7-4d834b560321",
   "metadata": {},
   "source": [
    "### target index\n",
    "\n",
    "Definitions:\n",
    "\n",
    "* indicies are 0 indexed\n",
    "* i // 2 defines floor division such that 4 // 2 = 2 and 5 // 2 = 3"
   ]
  },
  {
   "cell_type": "markdown",
   "id": "49bda08d-cd71-4ece-a208-2f6ff6381cc6",
   "metadata": {},
   "source": [
    "If we are given a sorted list, all we need is the length (N) to determine the median.\n",
    "\n",
    "If our list is an odd length, median = $\\text{list}[N \\; // \\;\\; 2]$.\n",
    "\n",
    "If our list is an even length, \n",
    "median = $\\frac{\\text{list}[(N \\; // \\; 2) - 1] + \\text{list}[N \\; // \\;\\; 2]}{2}$\n",
    "\n",
    "For instance:  \n",
    "\n",
    "* if len(list) = 5, median = list[2].\n",
    "* if len(list) = 6, median = $\\frac{\\text{list}[2] + \\text{list}[3]}{2}$\n",
    "\n",
    "We define our target index as $N \\; // \\;\\; 2$."
   ]
  },
  {
   "cell_type": "markdown",
   "id": "d8d37072-040f-4c68-a23b-46d8c758e80a",
   "metadata": {},
   "source": [
    "### High level logic"
   ]
  },
  {
   "cell_type": "markdown",
   "id": "228656a7-4a5b-4d1f-8613-8292447a9219",
   "metadata": {},
   "source": [
    "Let's say we have two sorted lists, **a** and **b**, such that len(a) = na and len(b) = nb. \n",
    "\n",
    "The combined list **c** would be $c = (\\text{a} \\cup \\text{b})_{sorted}$.\n",
    "\n",
    "If we split **c** into two groups: **c_low** and **c_high** \n",
    "such that len(c_low) = N // 2, all we would need to know is max(c_low) and min(c_high).\n",
    "$$\n",
    "\\text{median} = \n",
    "\\begin{cases}\n",
    "  \\min (\\text{c\\_high}), \\; \\text{N is odd} \\\\\n",
    "  \\frac{\\max(\\text{c\\_low}) + \\min(\\text{c\\_high})}{2}, \\; \\text{N is even}\n",
    "\\end{cases}\n",
    "$$\n",
    "\n",
    "In other words, **c_low** and **c_high** don't have to be sorted as long as we know \n",
    "their max and min respectively."
   ]
  },
  {
   "cell_type": "markdown",
   "id": "ce7250a0-b0c9-4e5a-9889-e6f226a50701",
   "metadata": {},
   "source": [
    "Turning our attention back to **a** and **b**, \n",
    "we can arbitrarily split **a** into two pieces such that len(a_low) = na_low and \n",
    "len(a_high) = na_high.\n",
    "\n",
    "```{mermaid}\n",
    "block-beta\n",
    "  block:a\n",
    "    columns 7\n",
    "    \n",
    "    b0_1[\"a\"] \n",
    "    space:6\n",
    "\n",
    "    b1_1[\"a_low_min\"] \n",
    "    b1_2[\"...\"] \n",
    "    b1_3[\"a_low_max\"] \n",
    "    space \n",
    "    b1_5[\"a_high_min\"] \n",
    "    b1_6[\"...\"] \n",
    "    b1_7[\"a_high_max\"]\n",
    "  end\n",
    "\n",
    "classDef background fill:#E5E4E2,stroke:#E5E4E2\n",
    "classDef min fill:#89CFF0,color:#000000\n",
    "classDef max fill:#7393B3,color:#000000\n",
    "classDef dot color:#000000\n",
    "\n",
    "class a,b0_1 background\n",
    "class b3 max\n",
    "class b5 hax\n",
    "class b2,b6 dot\n",
    "```"
   ]
  },
  {
   "cell_type": "markdown",
   "id": "051d5ee8-9e54-40d9-ad18-ffac7a4a2196",
   "metadata": {},
   "source": [
    "Next we will split **b** into two parts such that len(b_low) = nb_low and \n",
    "len(b_high) = nb_high. \n",
    "\n",
    "We choose the split point in **b** such that na_low + nb_low = N // 2.\n",
    "\n",
    "```{mermaid}\n",
    "block-beta\n",
    "  block:b\n",
    "    columns 7\n",
    "    b0[\"b\"] space:6\n",
    "    b1[\"b_low_min\"] b2[\"...\"] b3 [\"b_low_max\"] space b5[\"b_high_min\"] b6[\"...\"] b7[\"b_high_max\"]\n",
    "  end\n",
    "\n",
    "classDef background fill:#E5E4E2,stroke:#E5E4E2\n",
    "classDef min fill:#89CFF0,color:#000000\n",
    "classDef max fill:#7393B3,color:#000000\n",
    "classDef dot color:#000000\n",
    "\n",
    "class b,b0 background\n",
    "class b3 max\n",
    "class b5 hax\n",
    "class b2,b6 dot\n",
    "```"
   ]
  },
  {
   "cell_type": "markdown",
   "id": "93ef446e-2f93-4728-abb4-525cab687e17",
   "metadata": {},
   "source": [
    "$$\n",
    "\\text{If both of the following are true: }\n",
    "\\begin{cases}\n",
    "  \\text{a\\_low\\_max} <= \\text{b\\_high\\_min} \\\\\n",
    "  \\text{b\\_low\\_max} <= \\text{a\\_high\\_min}\n",
    "\\end{cases}\n",
    "\\tag{1}\n",
    "$$\n",
    "\n",
    "$$\n",
    "\\text{Then we can say: }\n",
    "\\text{a\\_low} \\cup \\text{b\\_low} <= \\text{a\\_high} \\cup \\text{b\\_high}\n",
    "$$\n",
    "\n",
    "$$\n",
    "\\text{Thus, from a set perspective: }\n",
    "\\begin{cases}\n",
    "  \\text{a\\_low} \\cup \\text{b\\_low} = \\text{c\\_low} \\\\\n",
    "  \\text{a\\_high} \\cup \\text{b\\_high} = \\text{c\\_high}\n",
    "\\end{cases}\n",
    "$$\n",
    "\n",
    "$$\n",
    "\\text{Therefore: } \n",
    "\\begin{cases}\n",
    "  \\max (\\text{c\\_low}) = \\max (\\text{a\\_low\\_max}, \\text{b\\_low\\_max}) \\\\\n",
    "  \\min (\\text{c\\_high}) = \\min (\\text{a\\_high\\_min}, \\text{b\\_high\\_min}) \\\\\n",
    "\\end{cases}\n",
    "$$"
   ]
  },
  {
   "cell_type": "markdown",
   "id": "89cc8b30-0566-44a6-9374-e46d7314ab65",
   "metadata": {},
   "source": [
    "This means all we need to do is find the split that satisfies the \n",
    "split requirements (1) from above and we can calculate the overall median."
   ]
  },
  {
   "cell_type": "markdown",
   "id": "b3a80b5d-325f-4063-b084-9394cae491ef",
   "metadata": {},
   "source": [
    "### Corner cases"
   ]
  },
  {
   "cell_type": "markdown",
   "id": "7bf7dda5-4430-4fa7-922d-2ed8e6226f43",
   "metadata": {},
   "source": [
    "Conditions that might cause issues in the code:\n",
    "\n",
    "* a < b or b < a"
   ]
  },
  {
   "cell_type": "markdown",
   "id": "908f08df-d69d-48b8-9332-ce558cf9d149",
   "metadata": {},
   "source": [
    "### Pseudo code"
   ]
  },
  {
   "cell_type": "markdown",
   "id": "e9596a57-b86f-47d0-b891-3f858e8a6771",
   "metadata": {},
   "source": [
    "Given two ordered sets, **a** and **b**, without loss of generality, we can define \n",
    "**a** to be the shorter of the two. This set's up a binary search of the shorter list \n",
    "and means O = log(N) where N is the length of the shorter of the two lists.\n",
    "\n",
    "Perform a binary search of **a** where each iteration selects an index of **a** to be \n",
    "considered a_high_min.\n",
    "\n",
    "For each iteration:\n",
    "\n",
    "* Check if the split requirements (1) have been met.\n",
    "    * Requirements met:\n",
    "        * Calculate median and exit\n",
    "    * a_low_max > b_high_min\n",
    "        * The split is too high, use the midpoint of a_low for the next iteration\n",
    "    * b_low_max > a_high_min\n",
    "        * The split is too low, use the midpoint of a_high for the next iteration\n",
    "\n",
    "To handle the corner cases, we will add -inf to the low end of each list and +inf \n",
    "to the high end of each list. That way our split point will never be the end of the \n",
    "list and the list will never be empty. Also, by adding evenly we do not change the \n",
    "median."
   ]
  },
  {
   "cell_type": "markdown",
   "id": "168a6ee0-7017-4567-ab8f-1ccc3286de81",
   "metadata": {},
   "source": [
    "## Setup"
   ]
  },
  {
   "cell_type": "markdown",
   "id": "9f0534db-65d1-4d90-a45c-72f6c5be4979",
   "metadata": {},
   "source": [
    "### Imports"
   ]
  },
  {
   "cell_type": "code",
   "execution_count": 1,
   "id": "69a0123e-1880-477b-8643-d04cf45056b2",
   "metadata": {
    "execution": {
     "iopub.execute_input": "2025-06-23T22:26:43.957248Z",
     "iopub.status.busy": "2025-06-23T22:26:43.957063Z",
     "iopub.status.idle": "2025-06-23T22:26:44.344755Z",
     "shell.execute_reply": "2025-06-23T22:26:44.343981Z",
     "shell.execute_reply.started": "2025-06-23T22:26:43.957232Z"
    }
   },
   "outputs": [],
   "source": [
    "import numpy as np\n",
    "import pandas as pd\n",
    "import textwrap\n",
    "from IPython.display import Markdown\n",
    "from rich.console import Console\n",
    "from rich.table import Table\n",
    "from copy import copy, deepcopy"
   ]
  },
  {
   "cell_type": "markdown",
   "id": "5d74cce5-8637-4184-b201-b2ab28127447",
   "metadata": {},
   "source": [
    "## Implementation"
   ]
  },
  {
   "cell_type": "markdown",
   "id": "3ec94cc7-6075-43e8-937e-605d75f6e88f",
   "metadata": {},
   "source": [
    "### Components"
   ]
  },
  {
   "cell_type": "code",
   "execution_count": 2,
   "id": "c501c462-048a-4676-a689-d4cb7f8998fe",
   "metadata": {
    "execution": {
     "iopub.execute_input": "2025-06-23T22:26:44.345871Z",
     "iopub.status.busy": "2025-06-23T22:26:44.345582Z",
     "iopub.status.idle": "2025-06-23T22:26:44.357380Z",
     "shell.execute_reply": "2025-06-23T22:26:44.356410Z",
     "shell.execute_reply.started": "2025-06-23T22:26:44.345854Z"
    }
   },
   "outputs": [],
   "source": [
    "def pad(x: list) -> list:\n",
    "    \"\"\"Pad the beginning and end of a list with -inf and inf respectively\"\"\"\n",
    "    return [-float(\"inf\")] + x + [float(\"inf\")]\n",
    "\n",
    "class Pointers():\n",
    "    \"\"\"Data class to hold current split target and search bounds\"\"\"\n",
    "    def __init__(self, high: int, target: int, low: int):\n",
    "        self.high = high\n",
    "        self.target = target\n",
    "        self.low = low\n",
    "\n",
    "class OrderedList:\n",
    "    \"\"\"Data and methods to run and track the median search\"\"\"\n",
    "    def __init__(self, nums: list, target=None):\n",
    "        self.list = nums\n",
    "        # pad the given list to keep targets from being outside the bounds of the list\n",
    "        self.padded_list = pad(nums)\n",
    "        if target == None:\n",
    "            # initialize the search_idx\n",
    "            self.search_idx = Pointers(low=0, target=self.n // 2, high=self.n)\n",
    "        else:\n",
    "            # use given target\n",
    "            self.set_target(target)\n",
    "\n",
    "    def set_target(self, target):\n",
    "        \"\"\"Manually set target index\"\"\"\n",
    "        self.search_idx.target = target\n",
    "\n",
    "    @property\n",
    "    def n(self):\n",
    "        \"\"\"Return the length of the padded list\"\"\"\n",
    "        return len(self.padded_list)\n",
    "        \n",
    "    @property\n",
    "    def low_max(self):\n",
    "        \"\"\"Return the max value of the list below the split\"\"\"\n",
    "        return self.padded_list[self.search_idx.target - 1]\n",
    "        \n",
    "    @property\n",
    "    def high_min(self):\n",
    "        \"\"\"Return the min value of the list above the split\"\"\"\n",
    "        return self.padded_list[self.search_idx.target]\n",
    "        \n",
    "    def next_target(self, search_high=True):\n",
    "        \"\"\"Update the search target and bounds\n",
    "\n",
    "        We're performing a binary search so we need to track the current value (target) \n",
    "        and lower and upper bounds of the search.\n",
    "\n",
    "        If search_high is true we will search above the target, otherwise we will \n",
    "        search below the target.\n",
    "\n",
    "        For example we would start with the target in the middle of the list and the \n",
    "        lower and upper bounds at the beginning and end of the list respectively:\n",
    "\n",
    "        [L--------------------T--------------------U]\n",
    "        L := lower, U := upper\n",
    "\n",
    "        search high would confine the search to the upper half:\n",
    "        [---------------------L----------T---------U]\n",
    "\n",
    "        if we next ran search_high=False we would get:\n",
    "        [---------------------L-----T----U----------]\n",
    "        \n",
    "        We continue searching until the target, T, is the correct split.\n",
    "        \"\"\"\n",
    "        if search_high:\n",
    "            self.search_idx.low = self.search_idx.target\n",
    "        else:\n",
    "            self.search_idx.high = self.search_idx.target\n",
    "\n",
    "        # set the target to half way between the low and the high bounds\n",
    "        self.search_idx.target = (self.search_idx.low + self.search_idx.high) // 2\n",
    "\n",
    "    def __str__(self):\n",
    "        \"\"\"Create a table representation of the OrderedList\"\"\"\n",
    "        # configurable values\n",
    "        # number of characters for the display of where the split value lies\n",
    "        w = 20\n",
    "\n",
    "        # derived values\n",
    "        t = self.search_idx.target\n",
    "        n = self.n\n",
    "        \n",
    "        low_width = int(t/n * w)\n",
    "        low_buffer = '-' * low_width\n",
    "        \n",
    "        high_width = w - low_width\n",
    "        high_buffer = '=' * high_width\n",
    "        \n",
    "        # Create table with no default borders\n",
    "        table = Table(show_header=True, header_style=\"bold purple4\")\n",
    "        \n",
    "        # Add columns\n",
    "        table.add_column(\"Split\", style=\"dodger_blue2\", justify=\"center\")\n",
    "        table.add_column(\"max low\", style=\"grey30\", justify=\"right\")\n",
    "        table.add_column(\"min high\", style=\"grey11\")\n",
    "        table.add_column(\"Split Location\", style=\"dodger_blue2\", justify=\"left\")\n",
    "        table.add_column(\"N\", style=\"grey0\")\n",
    "        \n",
    "        # Add data, order corresponds to columns\n",
    "        table.add_row(\n",
    "            f\"{self.search_idx.target}\",\n",
    "            str(self.low_max),\n",
    "            str(self.high_min),\n",
    "            f\"[{low_buffer}|{high_buffer}]\", \n",
    "            str(self.n),\n",
    "        )\n",
    "\n",
    "        # get string representation from console\n",
    "        console = Console()\n",
    "        with console.capture() as capture:\n",
    "            console.print(table)\n",
    "        str_output = capture.get()\n",
    "        return str_output\n",
    "\n",
    "    def __repr__(self):\n",
    "        \"\"\"Make this the same as the str representation\"\"\"\n",
    "        return self.__str__()\n",
    "        "
   ]
  },
  {
   "cell_type": "markdown",
   "id": "671d1524-069a-4d61-9436-3442a0214336",
   "metadata": {},
   "source": [
    "### Display"
   ]
  },
  {
   "cell_type": "code",
   "execution_count": 3,
   "id": "16a9d265-c830-444f-96bd-55b0d7eb8979",
   "metadata": {
    "execution": {
     "iopub.execute_input": "2025-06-23T22:26:44.358320Z",
     "iopub.status.busy": "2025-06-23T22:26:44.358091Z",
     "iopub.status.idle": "2025-06-23T22:26:44.368442Z",
     "shell.execute_reply": "2025-06-23T22:26:44.367141Z",
     "shell.execute_reply.started": "2025-06-23T22:26:44.358302Z"
    }
   },
   "outputs": [],
   "source": [
    "class Step():\n",
    "    \"\"\"Store and render the status of an intermediate search step\"\"\"\n",
    "    def __init__(self, a, b, names=list(\"ab\")):\n",
    "        # Create deep copies so subsequent updates don't affect this snapshot\n",
    "        self.a = deepcopy(a)\n",
    "        self.b = deepcopy(b)\n",
    "        self.names = names\n",
    "\n",
    "    @property\n",
    "    def table(self):\n",
    "        \"\"\"Create a table with the import values\"\"\"\n",
    "        ol_list = [self.a, self.b]\n",
    "        # Create table with no default borders\n",
    "        table = Table(show_header=True, header_style=\"bold purple4\", safe_box=True)\n",
    "        \n",
    "        # Add columns\n",
    "        table.add_column(\"List\", style=\"bright_black\", justify=\"center\")\n",
    "        table.add_column(\"Split\", style=\"dodger_blue2\", justify=\"center\")\n",
    "        table.add_column(\"max low\", style=\"grey30\", justify=\"right\")\n",
    "        table.add_column(\"min high\", style=\"grey11\")\n",
    "        table.add_column(\"Split Location\", style=\"dodger_blue2\", justify=\"left\")\n",
    "        table.add_column(\"N\", style=\"grey0\")\n",
    "        for i, ol in zip(self.names, ol_list):\n",
    "            # Add data\n",
    "            t = ol.search_idx.target\n",
    "            n = ol.n\n",
    "            w = 20\n",
    "            low_width = int(t/n * w)\n",
    "            low_buffer = '-' * low_width\n",
    "            \n",
    "            high_width = w - low_width\n",
    "            high_buffer = '=' * high_width\n",
    "            \n",
    "            table.add_row(\n",
    "                i,\n",
    "                f\"{ol.search_idx.target}\",\n",
    "                str(ol.low_max),\n",
    "                str(ol.high_min),\n",
    "                f\"[{low_buffer}|{high_buffer}]\", \n",
    "                str(ol.n),\n",
    "            )\n",
    "        console = Console()\n",
    "        \n",
    "        with console.capture() as capture:\n",
    "            console.print(table)\n",
    "        str_output = capture.get()\n",
    "        return str_output\n",
    "\n",
    "    def __repr__(self):\n",
    "        return self.table\n",
    "    \n",
    "def highlight_ol(ol: OrderedList):\n",
    "    \"\"\"Use pandas styling to display the lower and upper halves of the list\"\"\"\n",
    "    # lower\n",
    "    green_cols = list(range(ol.search_idx.low, ol.search_idx.target))\n",
    "    # upper\n",
    "    blue_cols = list(range(ol.search_idx.target, ol.search_idx.high))\n",
    "    \n",
    "    s = (\n",
    "        pd.Series(ol.padded_list).to_frame().T\n",
    "        .style\n",
    "        .set_properties(subset=green_cols, **{\"background-color\": \"lightgreen\"})\n",
    "        .set_properties(subset=blue_cols, **{\"background-color\": \"lightblue\"})\n",
    "    )\n",
    "    return s"
   ]
  },
  {
   "cell_type": "markdown",
   "id": "d15b2238-6584-47c7-94a5-d9b8fbfa9d40",
   "metadata": {},
   "source": [
    "### Algo"
   ]
  },
  {
   "cell_type": "code",
   "execution_count": 4,
   "id": "ccd96f8c-ae89-4d49-9f93-133d9704c642",
   "metadata": {
    "execution": {
     "iopub.execute_input": "2025-06-23T22:26:44.370052Z",
     "iopub.status.busy": "2025-06-23T22:26:44.369436Z",
     "iopub.status.idle": "2025-06-23T22:26:44.383121Z",
     "shell.execute_reply": "2025-06-23T22:26:44.382101Z",
     "shell.execute_reply.started": "2025-06-23T22:26:44.370018Z"
    }
   },
   "outputs": [],
   "source": [
    "def find_median(a, b, target_index, steps=None):\n",
    "    \"\"\"Find the median by finding the appropriate split\n",
    "\n",
    "    Check the split requirements:\n",
    "    If the split is right (a.low_max <= b.high_min) & (b.low_max <= a.high_min)\n",
    "\n",
    "    Other wise the split is too high or too low: adjust the search target and \n",
    "    boundaries appropriately and try again.\n",
    "    \"\"\"\n",
    "    if isinstance(steps, list):\n",
    "        steps += [Step(a, b)]\n",
    "        \n",
    "    # check split requirements\n",
    "    a_split_too_high = a.low_max > b.high_min\n",
    "    a_split_too_low = b.low_max > a.high_min\n",
    "    \n",
    "    if a_split_too_high:\n",
    "        # split was too high, search a_low for next target\n",
    "        a.next_target(search_high=False)\n",
    "        # adjust 'b' split according to 'a' split\n",
    "        b.search_idx.target = target_index - a.search_idx.target\n",
    "        # new search\n",
    "        a, b = find_median(a, b, target_index, steps)\n",
    "    elif a_split_too_low:\n",
    "        # split was too low, search a_high for next target\n",
    "        a.next_target(search_high=True)\n",
    "        # adjust 'b' split according to 'a' split\n",
    "        b.search_idx.target = target_index - a.search_idx.target\n",
    "        # new search\n",
    "        a, b = find_median(a, b, target_index, steps)\n",
    "        \n",
    "    return a, b\n",
    "    \n",
    "def calculate_median(a, b):\n",
    "    \"\"\"Given a correct split of lists a and b, calculate the overall median\"\"\"\n",
    "    n = a.n + b.n\n",
    "    low_max = max(a.low_max, b.low_max)\n",
    "    high_min = min(a.high_min, b.high_min)\n",
    "    if n % 2 == 0:\n",
    "        med = (low_max + high_min) / 2.0\n",
    "    else:\n",
    "        med = high_min\n",
    "        \n",
    "    return med\n",
    "    \n",
    "def main(nums1: list[int], nums2: list[int], steps=None):\n",
    "    \"\"\"Find the median of the combined lists nums1 and nums2\"\"\"\n",
    "    a, b = OrderedList(nums1), OrderedList(nums2)\n",
    "    # make sure a contains the shorter list\n",
    "    a, b = (a, b) if a.n <= b.n else (b, a)\n",
    "    \n",
    "    # adjust 'b' split according to 'a' split\n",
    "    target_index = (a.n + b.n) // 2\n",
    "    b.set_target(target_index - a.search_idx.target)\n",
    "\n",
    "    # start search\n",
    "    a, b = find_median(a, b, target_index, steps=steps)\n",
    "\n",
    "    # calculate the median\n",
    "    med = calculate_median(a, b)\n",
    "    \n",
    "    return a, b, med"
   ]
  },
  {
   "cell_type": "markdown",
   "id": "2fc82b7b-45e4-4101-99c4-b19ae4df74b5",
   "metadata": {},
   "source": [
    "## Random data test"
   ]
  },
  {
   "cell_type": "code",
   "execution_count": 5,
   "id": "45a1d901-0cb5-467f-a36e-f29c829d18cc",
   "metadata": {
    "execution": {
     "iopub.execute_input": "2025-06-23T22:26:44.384279Z",
     "iopub.status.busy": "2025-06-23T22:26:44.384010Z",
     "iopub.status.idle": "2025-06-23T22:26:44.395274Z",
     "shell.execute_reply": "2025-06-23T22:26:44.393974Z",
     "shell.execute_reply.started": "2025-06-23T22:26:44.384254Z"
    }
   },
   "outputs": [],
   "source": [
    "def random_data_test():\n",
    "    # first ordered list\n",
    "    # random length from 1 to 100\n",
    "    na = np.random.randint(1, 100)\n",
    "\n",
    "    # random integers from 0 to 60\n",
    "    a = np.random.randint(0, 60, na).tolist()\n",
    "    a.sort()\n",
    "\n",
    "    # second ordered list\n",
    "    # random length from 1 to 100\n",
    "    nb = np.random.randint(1, 100)\n",
    "    # random integers from 40 to 100\n",
    "    b = np.random.randint(40, 100, nb).tolist()\n",
    "    b.sort()\n",
    "\n",
    "    # sorted combined list\n",
    "    c = np.concat([a, b]).astype(int).tolist()\n",
    "    c.sort()\n",
    "    median_calculated = np.median(c)\n",
    "    \n",
    "    record_steps = []\n",
    "    a_final, b_final, median_algo = main(a, b, record_steps);\n",
    "\n",
    "    output = dict(\n",
    "        a_final=a_final,\n",
    "        b_final=b_final,\n",
    "        c=OrderedList(c),\n",
    "        median_calculated=median_calculated,\n",
    "        median_algo=median_algo,\n",
    "        steps=record_steps,\n",
    "    )\n",
    "\n",
    "    return output\n",
    "\n",
    "def evaluate_output(output):\n",
    "    calculated_equal_algo = (\n",
    "        'YES' if output['median_calculated'] == output['median_algo'] else 'NO'\n",
    "    )\n",
    "    print(\n",
    "        textwrap.dedent(\n",
    "            f\"\"\"\n",
    "            Is the calculated media the same as the median from the algo?\n",
    "            --> {calculated_equal_algo} <--\n",
    "            \n",
    "            - calculated median = {output['median_calculated']}\n",
    "            - algo median = {output['median_algo']}\n",
    "            \"\"\"\n",
    "        )\n",
    "    )\n",
    "    print(\"The combined sorted list:\")\n",
    "    display(output[\"c\"])\n",
    "    \n",
    "    print(\"\\nSearch steps:\")\n",
    "    for step in output[\"steps\"]:\n",
    "        display(step)"
   ]
  },
  {
   "cell_type": "code",
   "execution_count": 6,
   "id": "cb01c221-c70b-4852-839b-c7b8fdad3566",
   "metadata": {
    "execution": {
     "iopub.execute_input": "2025-06-23T22:26:44.398485Z",
     "iopub.status.busy": "2025-06-23T22:26:44.397720Z",
     "iopub.status.idle": "2025-06-23T22:26:44.443956Z",
     "shell.execute_reply": "2025-06-23T22:26:44.443158Z",
     "shell.execute_reply.started": "2025-06-23T22:26:44.398443Z"
    }
   },
   "outputs": [
    {
     "name": "stdout",
     "output_type": "stream",
     "text": [
      "\n",
      "Is the calculated media the same as the median from the algo?\n",
      "--> YES <--\n",
      "\n",
      "- calculated median = 49.5\n",
      "- algo median = 49.5\n",
      "\n",
      "The combined sorted list:\n"
     ]
    },
    {
     "data": {
      "text/html": [
       "<pre style=\"white-space:pre;overflow-x:auto;line-height:normal;font-family:Menlo,'DejaVu Sans Mono',consolas,'Courier New',monospace\"></pre>\n"
      ],
      "text/plain": []
     },
     "metadata": {},
     "output_type": "display_data"
    },
    {
     "data": {
      "text/plain": [
       "┏━━━━━━━┳━━━━━━━━━┳━━━━━━━━━━┳━━━━━━━━━━━━━━━━━━━━━━━━━┳━━━━━┓\n",
       "┃\u001b[1;38;5;55m \u001b[0m\u001b[1;38;5;55mSplit\u001b[0m\u001b[1;38;5;55m \u001b[0m┃\u001b[1;38;5;55m \u001b[0m\u001b[1;38;5;55mmax low\u001b[0m\u001b[1;38;5;55m \u001b[0m┃\u001b[1;38;5;55m \u001b[0m\u001b[1;38;5;55mmin high\u001b[0m\u001b[1;38;5;55m \u001b[0m┃\u001b[1;38;5;55m \u001b[0m\u001b[1;38;5;55mSplit Location         \u001b[0m\u001b[1;38;5;55m \u001b[0m┃\u001b[1;38;5;55m \u001b[0m\u001b[1;38;5;55mN  \u001b[0m\u001b[1;38;5;55m \u001b[0m┃\n",
       "┡━━━━━━━╇━━━━━━━━━╇━━━━━━━━━━╇━━━━━━━━━━━━━━━━━━━━━━━━━╇━━━━━┩\n",
       "│\u001b[38;5;27m \u001b[0m\u001b[38;5;27m 72  \u001b[0m\u001b[38;5;27m \u001b[0m│\u001b[38;5;239m \u001b[0m\u001b[38;5;239m     49\u001b[0m\u001b[38;5;239m \u001b[0m│\u001b[38;5;234m \u001b[0m\u001b[38;5;234m50      \u001b[0m\u001b[38;5;234m \u001b[0m│\u001b[38;5;27m \u001b[0m\u001b[38;5;27m[----------|==========]\u001b[0m\u001b[38;5;27m \u001b[0m│\u001b[38;5;16m \u001b[0m\u001b[38;5;16m144\u001b[0m\u001b[38;5;16m \u001b[0m│\n",
       "└───────┴─────────┴──────────┴─────────────────────────┴─────┘"
      ]
     },
     "metadata": {},
     "output_type": "display_data"
    },
    {
     "name": "stdout",
     "output_type": "stream",
     "text": [
      "\n",
      "Search steps:\n"
     ]
    },
    {
     "data": {
      "text/html": [
       "<pre style=\"white-space:pre;overflow-x:auto;line-height:normal;font-family:Menlo,'DejaVu Sans Mono',consolas,'Courier New',monospace\"></pre>\n"
      ],
      "text/plain": []
     },
     "metadata": {},
     "output_type": "display_data"
    },
    {
     "data": {
      "text/plain": [
       "┏━━━━━━┳━━━━━━━┳━━━━━━━━━┳━━━━━━━━━━┳━━━━━━━━━━━━━━━━━━━━━━━━━┳━━━━┓\n",
       "┃\u001b[1;38;5;55m \u001b[0m\u001b[1;38;5;55mList\u001b[0m\u001b[1;38;5;55m \u001b[0m┃\u001b[1;38;5;55m \u001b[0m\u001b[1;38;5;55mSplit\u001b[0m\u001b[1;38;5;55m \u001b[0m┃\u001b[1;38;5;55m \u001b[0m\u001b[1;38;5;55mmax low\u001b[0m\u001b[1;38;5;55m \u001b[0m┃\u001b[1;38;5;55m \u001b[0m\u001b[1;38;5;55mmin high\u001b[0m\u001b[1;38;5;55m \u001b[0m┃\u001b[1;38;5;55m \u001b[0m\u001b[1;38;5;55mSplit Location         \u001b[0m\u001b[1;38;5;55m \u001b[0m┃\u001b[1;38;5;55m \u001b[0m\u001b[1;38;5;55mN \u001b[0m\u001b[1;38;5;55m \u001b[0m┃\n",
       "┡━━━━━━╇━━━━━━━╇━━━━━━━━━╇━━━━━━━━━━╇━━━━━━━━━━━━━━━━━━━━━━━━━╇━━━━┩\n",
       "│\u001b[90m \u001b[0m\u001b[90m a  \u001b[0m\u001b[90m \u001b[0m│\u001b[38;5;27m \u001b[0m\u001b[38;5;27m 30  \u001b[0m\u001b[38;5;27m \u001b[0m│\u001b[38;5;239m \u001b[0m\u001b[38;5;239m     67\u001b[0m\u001b[38;5;239m \u001b[0m│\u001b[38;5;234m \u001b[0m\u001b[38;5;234m68      \u001b[0m\u001b[38;5;234m \u001b[0m│\u001b[38;5;27m \u001b[0m\u001b[38;5;27m[---------|===========]\u001b[0m\u001b[38;5;27m \u001b[0m│\u001b[38;5;16m \u001b[0m\u001b[38;5;16m61\u001b[0m\u001b[38;5;16m \u001b[0m│\n",
       "│\u001b[90m \u001b[0m\u001b[90m b  \u001b[0m\u001b[90m \u001b[0m│\u001b[38;5;27m \u001b[0m\u001b[38;5;27m 43  \u001b[0m\u001b[38;5;27m \u001b[0m│\u001b[38;5;239m \u001b[0m\u001b[38;5;239m     36\u001b[0m\u001b[38;5;239m \u001b[0m│\u001b[38;5;234m \u001b[0m\u001b[38;5;234m38      \u001b[0m\u001b[38;5;234m \u001b[0m│\u001b[38;5;27m \u001b[0m\u001b[38;5;27m[----------|==========]\u001b[0m\u001b[38;5;27m \u001b[0m│\u001b[38;5;16m \u001b[0m\u001b[38;5;16m85\u001b[0m\u001b[38;5;16m \u001b[0m│\n",
       "└──────┴───────┴─────────┴──────────┴─────────────────────────┴────┘"
      ]
     },
     "metadata": {},
     "output_type": "display_data"
    },
    {
     "data": {
      "text/html": [
       "<pre style=\"white-space:pre;overflow-x:auto;line-height:normal;font-family:Menlo,'DejaVu Sans Mono',consolas,'Courier New',monospace\"></pre>\n"
      ],
      "text/plain": []
     },
     "metadata": {},
     "output_type": "display_data"
    },
    {
     "data": {
      "text/plain": [
       "┏━━━━━━┳━━━━━━━┳━━━━━━━━━┳━━━━━━━━━━┳━━━━━━━━━━━━━━━━━━━━━━━━━┳━━━━┓\n",
       "┃\u001b[1;38;5;55m \u001b[0m\u001b[1;38;5;55mList\u001b[0m\u001b[1;38;5;55m \u001b[0m┃\u001b[1;38;5;55m \u001b[0m\u001b[1;38;5;55mSplit\u001b[0m\u001b[1;38;5;55m \u001b[0m┃\u001b[1;38;5;55m \u001b[0m\u001b[1;38;5;55mmax low\u001b[0m\u001b[1;38;5;55m \u001b[0m┃\u001b[1;38;5;55m \u001b[0m\u001b[1;38;5;55mmin high\u001b[0m\u001b[1;38;5;55m \u001b[0m┃\u001b[1;38;5;55m \u001b[0m\u001b[1;38;5;55mSplit Location         \u001b[0m\u001b[1;38;5;55m \u001b[0m┃\u001b[1;38;5;55m \u001b[0m\u001b[1;38;5;55mN \u001b[0m\u001b[1;38;5;55m \u001b[0m┃\n",
       "┡━━━━━━╇━━━━━━━╇━━━━━━━━━╇━━━━━━━━━━╇━━━━━━━━━━━━━━━━━━━━━━━━━╇━━━━┩\n",
       "│\u001b[90m \u001b[0m\u001b[90m a  \u001b[0m\u001b[90m \u001b[0m│\u001b[38;5;27m \u001b[0m\u001b[38;5;27m 15  \u001b[0m\u001b[38;5;27m \u001b[0m│\u001b[38;5;239m \u001b[0m\u001b[38;5;239m     55\u001b[0m\u001b[38;5;239m \u001b[0m│\u001b[38;5;234m \u001b[0m\u001b[38;5;234m57      \u001b[0m\u001b[38;5;234m \u001b[0m│\u001b[38;5;27m \u001b[0m\u001b[38;5;27m[----|================]\u001b[0m\u001b[38;5;27m \u001b[0m│\u001b[38;5;16m \u001b[0m\u001b[38;5;16m61\u001b[0m\u001b[38;5;16m \u001b[0m│\n",
       "│\u001b[90m \u001b[0m\u001b[90m b  \u001b[0m\u001b[90m \u001b[0m│\u001b[38;5;27m \u001b[0m\u001b[38;5;27m 58  \u001b[0m\u001b[38;5;27m \u001b[0m│\u001b[38;5;239m \u001b[0m\u001b[38;5;239m     45\u001b[0m\u001b[38;5;239m \u001b[0m│\u001b[38;5;234m \u001b[0m\u001b[38;5;234m45      \u001b[0m\u001b[38;5;234m \u001b[0m│\u001b[38;5;27m \u001b[0m\u001b[38;5;27m[-------------|=======]\u001b[0m\u001b[38;5;27m \u001b[0m│\u001b[38;5;16m \u001b[0m\u001b[38;5;16m85\u001b[0m\u001b[38;5;16m \u001b[0m│\n",
       "└──────┴───────┴─────────┴──────────┴─────────────────────────┴────┘"
      ]
     },
     "metadata": {},
     "output_type": "display_data"
    },
    {
     "data": {
      "text/html": [
       "<pre style=\"white-space:pre;overflow-x:auto;line-height:normal;font-family:Menlo,'DejaVu Sans Mono',consolas,'Courier New',monospace\"></pre>\n"
      ],
      "text/plain": []
     },
     "metadata": {},
     "output_type": "display_data"
    },
    {
     "data": {
      "text/plain": [
       "┏━━━━━━┳━━━━━━━┳━━━━━━━━━┳━━━━━━━━━━┳━━━━━━━━━━━━━━━━━━━━━━━━━┳━━━━┓\n",
       "┃\u001b[1;38;5;55m \u001b[0m\u001b[1;38;5;55mList\u001b[0m\u001b[1;38;5;55m \u001b[0m┃\u001b[1;38;5;55m \u001b[0m\u001b[1;38;5;55mSplit\u001b[0m\u001b[1;38;5;55m \u001b[0m┃\u001b[1;38;5;55m \u001b[0m\u001b[1;38;5;55mmax low\u001b[0m\u001b[1;38;5;55m \u001b[0m┃\u001b[1;38;5;55m \u001b[0m\u001b[1;38;5;55mmin high\u001b[0m\u001b[1;38;5;55m \u001b[0m┃\u001b[1;38;5;55m \u001b[0m\u001b[1;38;5;55mSplit Location         \u001b[0m\u001b[1;38;5;55m \u001b[0m┃\u001b[1;38;5;55m \u001b[0m\u001b[1;38;5;55mN \u001b[0m\u001b[1;38;5;55m \u001b[0m┃\n",
       "┡━━━━━━╇━━━━━━━╇━━━━━━━━━╇━━━━━━━━━━╇━━━━━━━━━━━━━━━━━━━━━━━━━╇━━━━┩\n",
       "│\u001b[90m \u001b[0m\u001b[90m a  \u001b[0m\u001b[90m \u001b[0m│\u001b[38;5;27m \u001b[0m\u001b[38;5;27m  7  \u001b[0m\u001b[38;5;27m \u001b[0m│\u001b[38;5;239m \u001b[0m\u001b[38;5;239m     50\u001b[0m\u001b[38;5;239m \u001b[0m│\u001b[38;5;234m \u001b[0m\u001b[38;5;234m50      \u001b[0m\u001b[38;5;234m \u001b[0m│\u001b[38;5;27m \u001b[0m\u001b[38;5;27m[--|==================]\u001b[0m\u001b[38;5;27m \u001b[0m│\u001b[38;5;16m \u001b[0m\u001b[38;5;16m61\u001b[0m\u001b[38;5;16m \u001b[0m│\n",
       "│\u001b[90m \u001b[0m\u001b[90m b  \u001b[0m\u001b[90m \u001b[0m│\u001b[38;5;27m \u001b[0m\u001b[38;5;27m 66  \u001b[0m\u001b[38;5;27m \u001b[0m│\u001b[38;5;239m \u001b[0m\u001b[38;5;239m     49\u001b[0m\u001b[38;5;239m \u001b[0m│\u001b[38;5;234m \u001b[0m\u001b[38;5;234m49      \u001b[0m\u001b[38;5;234m \u001b[0m│\u001b[38;5;27m \u001b[0m\u001b[38;5;27m[---------------|=====]\u001b[0m\u001b[38;5;27m \u001b[0m│\u001b[38;5;16m \u001b[0m\u001b[38;5;16m85\u001b[0m\u001b[38;5;16m \u001b[0m│\n",
       "└──────┴───────┴─────────┴──────────┴─────────────────────────┴────┘"
      ]
     },
     "metadata": {},
     "output_type": "display_data"
    },
    {
     "data": {
      "text/html": [
       "<pre style=\"white-space:pre;overflow-x:auto;line-height:normal;font-family:Menlo,'DejaVu Sans Mono',consolas,'Courier New',monospace\"></pre>\n"
      ],
      "text/plain": []
     },
     "metadata": {},
     "output_type": "display_data"
    },
    {
     "data": {
      "text/plain": [
       "┏━━━━━━┳━━━━━━━┳━━━━━━━━━┳━━━━━━━━━━┳━━━━━━━━━━━━━━━━━━━━━━━━━┳━━━━┓\n",
       "┃\u001b[1;38;5;55m \u001b[0m\u001b[1;38;5;55mList\u001b[0m\u001b[1;38;5;55m \u001b[0m┃\u001b[1;38;5;55m \u001b[0m\u001b[1;38;5;55mSplit\u001b[0m\u001b[1;38;5;55m \u001b[0m┃\u001b[1;38;5;55m \u001b[0m\u001b[1;38;5;55mmax low\u001b[0m\u001b[1;38;5;55m \u001b[0m┃\u001b[1;38;5;55m \u001b[0m\u001b[1;38;5;55mmin high\u001b[0m\u001b[1;38;5;55m \u001b[0m┃\u001b[1;38;5;55m \u001b[0m\u001b[1;38;5;55mSplit Location         \u001b[0m\u001b[1;38;5;55m \u001b[0m┃\u001b[1;38;5;55m \u001b[0m\u001b[1;38;5;55mN \u001b[0m\u001b[1;38;5;55m \u001b[0m┃\n",
       "┡━━━━━━╇━━━━━━━╇━━━━━━━━━╇━━━━━━━━━━╇━━━━━━━━━━━━━━━━━━━━━━━━━╇━━━━┩\n",
       "│\u001b[90m \u001b[0m\u001b[90m a  \u001b[0m\u001b[90m \u001b[0m│\u001b[38;5;27m \u001b[0m\u001b[38;5;27m  3  \u001b[0m\u001b[38;5;27m \u001b[0m│\u001b[38;5;239m \u001b[0m\u001b[38;5;239m     42\u001b[0m\u001b[38;5;239m \u001b[0m│\u001b[38;5;234m \u001b[0m\u001b[38;5;234m43      \u001b[0m\u001b[38;5;234m \u001b[0m│\u001b[38;5;27m \u001b[0m\u001b[38;5;27m[|====================]\u001b[0m\u001b[38;5;27m \u001b[0m│\u001b[38;5;16m \u001b[0m\u001b[38;5;16m61\u001b[0m\u001b[38;5;16m \u001b[0m│\n",
       "│\u001b[90m \u001b[0m\u001b[90m b  \u001b[0m\u001b[90m \u001b[0m│\u001b[38;5;27m \u001b[0m\u001b[38;5;27m 70  \u001b[0m\u001b[38;5;27m \u001b[0m│\u001b[38;5;239m \u001b[0m\u001b[38;5;239m     51\u001b[0m\u001b[38;5;239m \u001b[0m│\u001b[38;5;234m \u001b[0m\u001b[38;5;234m51      \u001b[0m\u001b[38;5;234m \u001b[0m│\u001b[38;5;27m \u001b[0m\u001b[38;5;27m[----------------|====]\u001b[0m\u001b[38;5;27m \u001b[0m│\u001b[38;5;16m \u001b[0m\u001b[38;5;16m85\u001b[0m\u001b[38;5;16m \u001b[0m│\n",
       "└──────┴───────┴─────────┴──────────┴─────────────────────────┴────┘"
      ]
     },
     "metadata": {},
     "output_type": "display_data"
    },
    {
     "data": {
      "text/html": [
       "<pre style=\"white-space:pre;overflow-x:auto;line-height:normal;font-family:Menlo,'DejaVu Sans Mono',consolas,'Courier New',monospace\"></pre>\n"
      ],
      "text/plain": []
     },
     "metadata": {},
     "output_type": "display_data"
    },
    {
     "data": {
      "text/plain": [
       "┏━━━━━━┳━━━━━━━┳━━━━━━━━━┳━━━━━━━━━━┳━━━━━━━━━━━━━━━━━━━━━━━━━┳━━━━┓\n",
       "┃\u001b[1;38;5;55m \u001b[0m\u001b[1;38;5;55mList\u001b[0m\u001b[1;38;5;55m \u001b[0m┃\u001b[1;38;5;55m \u001b[0m\u001b[1;38;5;55mSplit\u001b[0m\u001b[1;38;5;55m \u001b[0m┃\u001b[1;38;5;55m \u001b[0m\u001b[1;38;5;55mmax low\u001b[0m\u001b[1;38;5;55m \u001b[0m┃\u001b[1;38;5;55m \u001b[0m\u001b[1;38;5;55mmin high\u001b[0m\u001b[1;38;5;55m \u001b[0m┃\u001b[1;38;5;55m \u001b[0m\u001b[1;38;5;55mSplit Location         \u001b[0m\u001b[1;38;5;55m \u001b[0m┃\u001b[1;38;5;55m \u001b[0m\u001b[1;38;5;55mN \u001b[0m\u001b[1;38;5;55m \u001b[0m┃\n",
       "┡━━━━━━╇━━━━━━━╇━━━━━━━━━╇━━━━━━━━━━╇━━━━━━━━━━━━━━━━━━━━━━━━━╇━━━━┩\n",
       "│\u001b[90m \u001b[0m\u001b[90m a  \u001b[0m\u001b[90m \u001b[0m│\u001b[38;5;27m \u001b[0m\u001b[38;5;27m  5  \u001b[0m\u001b[38;5;27m \u001b[0m│\u001b[38;5;239m \u001b[0m\u001b[38;5;239m     47\u001b[0m\u001b[38;5;239m \u001b[0m│\u001b[38;5;234m \u001b[0m\u001b[38;5;234m48      \u001b[0m\u001b[38;5;234m \u001b[0m│\u001b[38;5;27m \u001b[0m\u001b[38;5;27m[-|===================]\u001b[0m\u001b[38;5;27m \u001b[0m│\u001b[38;5;16m \u001b[0m\u001b[38;5;16m61\u001b[0m\u001b[38;5;16m \u001b[0m│\n",
       "│\u001b[90m \u001b[0m\u001b[90m b  \u001b[0m\u001b[90m \u001b[0m│\u001b[38;5;27m \u001b[0m\u001b[38;5;27m 68  \u001b[0m\u001b[38;5;27m \u001b[0m│\u001b[38;5;239m \u001b[0m\u001b[38;5;239m     50\u001b[0m\u001b[38;5;239m \u001b[0m│\u001b[38;5;234m \u001b[0m\u001b[38;5;234m50      \u001b[0m\u001b[38;5;234m \u001b[0m│\u001b[38;5;27m \u001b[0m\u001b[38;5;27m[----------------|====]\u001b[0m\u001b[38;5;27m \u001b[0m│\u001b[38;5;16m \u001b[0m\u001b[38;5;16m85\u001b[0m\u001b[38;5;16m \u001b[0m│\n",
       "└──────┴───────┴─────────┴──────────┴─────────────────────────┴────┘"
      ]
     },
     "metadata": {},
     "output_type": "display_data"
    },
    {
     "data": {
      "text/html": [
       "<pre style=\"white-space:pre;overflow-x:auto;line-height:normal;font-family:Menlo,'DejaVu Sans Mono',consolas,'Courier New',monospace\"></pre>\n"
      ],
      "text/plain": []
     },
     "metadata": {},
     "output_type": "display_data"
    },
    {
     "data": {
      "text/plain": [
       "┏━━━━━━┳━━━━━━━┳━━━━━━━━━┳━━━━━━━━━━┳━━━━━━━━━━━━━━━━━━━━━━━━━┳━━━━┓\n",
       "┃\u001b[1;38;5;55m \u001b[0m\u001b[1;38;5;55mList\u001b[0m\u001b[1;38;5;55m \u001b[0m┃\u001b[1;38;5;55m \u001b[0m\u001b[1;38;5;55mSplit\u001b[0m\u001b[1;38;5;55m \u001b[0m┃\u001b[1;38;5;55m \u001b[0m\u001b[1;38;5;55mmax low\u001b[0m\u001b[1;38;5;55m \u001b[0m┃\u001b[1;38;5;55m \u001b[0m\u001b[1;38;5;55mmin high\u001b[0m\u001b[1;38;5;55m \u001b[0m┃\u001b[1;38;5;55m \u001b[0m\u001b[1;38;5;55mSplit Location         \u001b[0m\u001b[1;38;5;55m \u001b[0m┃\u001b[1;38;5;55m \u001b[0m\u001b[1;38;5;55mN \u001b[0m\u001b[1;38;5;55m \u001b[0m┃\n",
       "┡━━━━━━╇━━━━━━━╇━━━━━━━━━╇━━━━━━━━━━╇━━━━━━━━━━━━━━━━━━━━━━━━━╇━━━━┩\n",
       "│\u001b[90m \u001b[0m\u001b[90m a  \u001b[0m\u001b[90m \u001b[0m│\u001b[38;5;27m \u001b[0m\u001b[38;5;27m  6  \u001b[0m\u001b[38;5;27m \u001b[0m│\u001b[38;5;239m \u001b[0m\u001b[38;5;239m     48\u001b[0m\u001b[38;5;239m \u001b[0m│\u001b[38;5;234m \u001b[0m\u001b[38;5;234m50      \u001b[0m\u001b[38;5;234m \u001b[0m│\u001b[38;5;27m \u001b[0m\u001b[38;5;27m[-|===================]\u001b[0m\u001b[38;5;27m \u001b[0m│\u001b[38;5;16m \u001b[0m\u001b[38;5;16m61\u001b[0m\u001b[38;5;16m \u001b[0m│\n",
       "│\u001b[90m \u001b[0m\u001b[90m b  \u001b[0m\u001b[90m \u001b[0m│\u001b[38;5;27m \u001b[0m\u001b[38;5;27m 67  \u001b[0m\u001b[38;5;27m \u001b[0m│\u001b[38;5;239m \u001b[0m\u001b[38;5;239m     49\u001b[0m\u001b[38;5;239m \u001b[0m│\u001b[38;5;234m \u001b[0m\u001b[38;5;234m50      \u001b[0m\u001b[38;5;234m \u001b[0m│\u001b[38;5;27m \u001b[0m\u001b[38;5;27m[---------------|=====]\u001b[0m\u001b[38;5;27m \u001b[0m│\u001b[38;5;16m \u001b[0m\u001b[38;5;16m85\u001b[0m\u001b[38;5;16m \u001b[0m│\n",
       "└──────┴───────┴─────────┴──────────┴─────────────────────────┴────┘"
      ]
     },
     "metadata": {},
     "output_type": "display_data"
    }
   ],
   "source": [
    "evaluate_output(random_data_test())"
   ]
  },
  {
   "cell_type": "markdown",
   "id": "cd16c1b1-6a7b-435e-beff-91f585c8c2b3",
   "metadata": {},
   "source": [
    "## Specific tests"
   ]
  },
  {
   "cell_type": "code",
   "execution_count": 7,
   "id": "04ea64e0-cf49-4b67-82a8-dc7839a0e2a0",
   "metadata": {
    "execution": {
     "iopub.execute_input": "2025-06-23T22:26:44.444930Z",
     "iopub.status.busy": "2025-06-23T22:26:44.444707Z",
     "iopub.status.idle": "2025-06-23T22:26:44.450573Z",
     "shell.execute_reply": "2025-06-23T22:26:44.449711Z",
     "shell.execute_reply.started": "2025-06-23T22:26:44.444912Z"
    }
   },
   "outputs": [
    {
     "name": "stdout",
     "output_type": "stream",
     "text": [
      "Success\n"
     ]
    }
   ],
   "source": [
    "nums1 = []\n",
    "nums2 = [3, 4, 5]\n",
    "\n",
    "record_steps = []\n",
    "a, b, med = main(nums1, nums2, record_steps)\n",
    "\n",
    "assert(med == 4)\n",
    "print(\"Success\")"
   ]
  },
  {
   "cell_type": "code",
   "execution_count": 8,
   "id": "0475420e-cad5-48a5-a403-9a9766422996",
   "metadata": {
    "execution": {
     "iopub.execute_input": "2025-06-23T22:26:44.451642Z",
     "iopub.status.busy": "2025-06-23T22:26:44.451389Z",
     "iopub.status.idle": "2025-06-23T22:26:44.458608Z",
     "shell.execute_reply": "2025-06-23T22:26:44.457377Z",
     "shell.execute_reply.started": "2025-06-23T22:26:44.451624Z"
    }
   },
   "outputs": [
    {
     "name": "stdout",
     "output_type": "stream",
     "text": [
      "Success\n"
     ]
    }
   ],
   "source": [
    "nums1 = [1, 2, 3]\n",
    "nums2 = [40, 50]\n",
    "\n",
    "record_steps = []\n",
    "a, b, med = main(nums1, nums2, record_steps)\n",
    "\n",
    "assert(med == 3)\n",
    "print(\"Success\")"
   ]
  },
  {
   "cell_type": "code",
   "execution_count": 9,
   "id": "68d75e41-5b62-4283-a660-5d62a4d7ba2d",
   "metadata": {
    "execution": {
     "iopub.execute_input": "2025-06-23T22:26:44.460651Z",
     "iopub.status.busy": "2025-06-23T22:26:44.459992Z",
     "iopub.status.idle": "2025-06-23T22:26:44.468613Z",
     "shell.execute_reply": "2025-06-23T22:26:44.467322Z",
     "shell.execute_reply.started": "2025-06-23T22:26:44.460627Z"
    }
   },
   "outputs": [
    {
     "name": "stdout",
     "output_type": "stream",
     "text": [
      "Success\n"
     ]
    }
   ],
   "source": [
    "nums1 = [10, 20]\n",
    "nums2 = [40, 50]\n",
    "\n",
    "record_steps = []\n",
    "a, b, med = main(nums1, nums2, record_steps)\n",
    "\n",
    "assert(med == 30)\n",
    "print(\"Success\")"
   ]
  },
  {
   "cell_type": "code",
   "execution_count": null,
   "id": "fdbd84f3-fa55-4835-823e-216b610d3ae2",
   "metadata": {},
   "outputs": [],
   "source": []
  }
 ],
 "metadata": {
  "kernelspec": {
   "display_name": "Python 3 (ipykernel)",
   "language": "python",
   "name": "python3"
  },
  "language_info": {
   "codemirror_mode": {
    "name": "ipython",
    "version": 3
   },
   "file_extension": ".py",
   "mimetype": "text/x-python",
   "name": "python",
   "nbconvert_exporter": "python",
   "pygments_lexer": "ipython3",
   "version": "3.12.3"
  }
 },
 "nbformat": 4,
 "nbformat_minor": 5
}
