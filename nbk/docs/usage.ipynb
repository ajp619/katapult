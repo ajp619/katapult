{
 "cells": [
  {
   "cell_type": "raw",
   "id": "f172abcc-9274-4343-98b2-89e278e72b6d",
   "metadata": {},
   "source": [
    "---\n",
    "format:\n",
    "  html:\n",
    "    embed-resources: true\n",
    "---"
   ]
  },
  {
   "cell_type": "code",
   "execution_count": 13,
   "id": "d07ef837-4e14-4733-b85e-633d76f89c22",
   "metadata": {
    "execution": {
     "iopub.execute_input": "2025-06-11T15:36:25.131749Z",
     "iopub.status.busy": "2025-06-11T15:36:25.131309Z",
     "iopub.status.idle": "2025-06-11T15:36:25.139057Z",
     "shell.execute_reply": "2025-06-11T15:36:25.137874Z",
     "shell.execute_reply.started": "2025-06-11T15:36:25.131701Z"
    }
   },
   "outputs": [],
   "source": [
    "#| include: false\n",
    "from IPython.display import Markdown\n",
    "import os\n",
    "os.chdir(\"/\")"
   ]
  },
  {
   "cell_type": "markdown",
   "id": "e0e41209-547a-4354-88de-34c08074ffff",
   "metadata": {},
   "source": [
    "# Usage"
   ]
  },
  {
   "cell_type": "markdown",
   "id": "8443e8df-0473-4bca-a823-cdf27b659f83",
   "metadata": {},
   "source": [
    "Katapult can be used in different ways, but it has an opinion on the way most \n",
    "projects evolve. \n",
    "\n",
    "The general project structure is shown here:"
   ]
  },
  {
   "cell_type": "code",
   "execution_count": 17,
   "id": "760fd739-544e-431f-9304-0c264ebff793",
   "metadata": {
    "execution": {
     "iopub.execute_input": "2025-06-11T15:50:30.907264Z",
     "iopub.status.busy": "2025-06-11T15:50:30.906977Z",
     "iopub.status.idle": "2025-06-11T15:50:31.021080Z",
     "shell.execute_reply": "2025-06-11T15:50:31.020016Z",
     "shell.execute_reply.started": "2025-06-11T15:50:30.907242Z"
    }
   },
   "outputs": [
    {
     "name": "stdout",
     "output_type": "stream",
     "text": [
      "content\n",
      "├── LICENSE.md\n",
      "├── README.md\n",
      "├── _quarto.yml\n",
      "├── api\n",
      "├── app\n",
      "├── assets\n",
      "├── build\n",
      "├── docs\n",
      "├── lib\n",
      "├── nbk\n",
      "└── srv\n",
      "\n",
      "9 directories, 3 files\n"
     ]
    }
   ],
   "source": [
    "#| label: fig-dirs\n",
    "#| fig-cap: General project structure\n",
    "#| echo: false\n",
    "\n",
    "!tree -n content -L 1"
   ]
  },
  {
   "cell_type": "markdown",
   "id": "bb80d514-f996-47fb-82e9-23e9da614b55",
   "metadata": {},
   "source": [
    "## JupyterLab"
   ]
  },
  {
   "cell_type": "markdown",
   "id": "798e9583-9116-4aff-8158-a2bf92ef0e40",
   "metadata": {},
   "source": [
    "The most basic usage is to just use the JupyterLab server which can be found by going \n",
    "to the project root and using the [Services](../../srv/services.qmd) link.\n",
    "\n",
    "Dependencies are managed with [uv](https://docs.astral.sh/uv/) and can be \n",
    "modified is several different ways:"
   ]
  },
  {
   "cell_type": "markdown",
   "id": "a657ef10-b001-4c84-bb35-e2a72668bc98",
   "metadata": {},
   "source": [
    "### Add dependencies from JupyterLab terminal\n",
    "\n",
    "The primary components of the `nbk/` directory are shown here:"
   ]
  },
  {
   "cell_type": "code",
   "execution_count": 19,
   "id": "f8429c7d-359f-4168-b3a2-980cc2cbbbec",
   "metadata": {
    "execution": {
     "iopub.execute_input": "2025-06-11T15:52:21.844343Z",
     "iopub.status.busy": "2025-06-11T15:52:21.844055Z",
     "iopub.status.idle": "2025-06-11T15:52:21.848360Z",
     "shell.execute_reply": "2025-06-11T15:52:21.847487Z",
     "shell.execute_reply.started": "2025-06-11T15:52:21.844322Z"
    }
   },
   "outputs": [],
   "source": [
    "#| include: false\n",
    "os.chdir(\"/content/\")"
   ]
  },
  {
   "cell_type": "code",
   "execution_count": 22,
   "id": "3b465485-d6e8-4140-98fb-18fe9cc9894e",
   "metadata": {
    "execution": {
     "iopub.execute_input": "2025-06-11T15:55:51.326514Z",
     "iopub.status.busy": "2025-06-11T15:55:51.325771Z",
     "iopub.status.idle": "2025-06-11T15:55:51.445225Z",
     "shell.execute_reply": "2025-06-11T15:55:51.444017Z",
     "shell.execute_reply.started": "2025-06-11T15:55:51.326480Z"
    }
   },
   "outputs": [
    {
     "name": "stdout",
     "output_type": "stream",
     "text": [
      "nbk/\n",
      "├── docs/\n",
      "├── pyproject.toml\n",
      "├── reports/\n",
      "├── uv.lock\n",
      "└── wip/\n",
      "\n",
      "4 directories, 3 files\n"
     ]
    }
   ],
   "source": [
    "#| label: fig-nbk\n",
    "#| echo: false\n",
    "#| fig-cap: \"nbk directory\"\n",
    "!tree -nF nbk -L 1 | grep -v sorted"
   ]
  },
  {
   "cell_type": "markdown",
   "id": "35f631ee-fd7f-4f15-9fc7-40aab41dfb1e",
   "metadata": {},
   "source": [
    "Launching a terminal from JupyterLab will give you a command prompt running from \n",
    "within the container. JupyterLab dependencies are controlled in the `nbk/` directory \n",
    "(see figure above).\n",
    "\n",
    "To add a dependency simply run (from within the `nbk/` directory):\n",
    "```bash\n",
    "uv add xarray # for example\n",
    "```\n",
    "\n",
    "Dependencies are saved in the `pyproject.toml` and `uv.lock` files. See \n",
    "[uv](https://docs.astral.sh/uv/) documentation for more information."
   ]
  },
  {
   "cell_type": "markdown",
   "id": "90d5e843-9920-4b2a-a041-7b1396ff9943",
   "metadata": {},
   "source": [
    "### Add dependencies using `katx connect`"
   ]
  },
  {
   "cell_type": "markdown",
   "id": "6e44fd60-6c3f-4c03-b33d-a92d39c1d944",
   "metadata": {},
   "source": [
    "You can also get a terminal in the container using `katx`.\n",
    "\n",
    "From within your project directory run `katx connect`.\n",
    "\n",
    "Change to your notebook (nbk) directory and use [uv](https://docs.astral.sh/uv/) as \n",
    "described above."
   ]
  },
  {
   "cell_type": "markdown",
   "id": "8db503ed-177e-4141-a2af-2d5c0e70d69e",
   "metadata": {},
   "source": [
    "### Publishing notebooks"
   ]
  },
  {
   "cell_type": "markdown",
   "id": "265366af-f574-4656-b329-ae781cf35bd2",
   "metadata": {},
   "source": [
    "By default, three of the directories have special purposes:\n",
    "\n",
    "* `docs/`  \n",
    "  Notebooks in the `docs/` directory (e.g. this document) are intended to be used in\n",
    "  the general project documentation and referenced from the `documentation.qmd` file in\n",
    "  the `srv/` directory.\n",
    "  \n",
    "* `report/`  \n",
    "  Notebooks in the `reports/` directory are stand alone documents that you can share\n",
    "  with other people. They will automatically appear [here](../../srv/reports.qmd),\n",
    "  and can be downloaded as standalone html files.\n",
    "\n",
    "* `wip/`\n",
    "  Notebooks in the `wip/` directory are stand alone documents that are\n",
    "  under development. As such, they are shareable if you know the link, but not\n",
    "  discoverable when browsing the project website. For example,\n",
    "  [this document](../../nbk/wip/med_2_sorted_lists_1.ipynb) is available through the\n",
    "  given link, but you will not find it while browsing.\n",
    "\n",
    "For more information about publishing, refer to the [Quarto](#quarto) section.\n"
   ]
  },
  {
   "cell_type": "markdown",
   "id": "6dbea843-9257-4e1c-86f9-af8acd76533e",
   "metadata": {},
   "source": [
    "## Creating a python library"
   ]
  },
  {
   "cell_type": "markdown",
   "id": "2d5f8f06-eb0e-49b7-808c-f503bd9a9a29",
   "metadata": {},
   "source": [
    "Typically, projects start in an exploration / experimentation phase. A great tool for \n",
    "this is a Jupyter Notebook."
   ]
  },
  {
   "cell_type": "code",
   "execution_count": 5,
   "id": "90df5d03-4742-4c06-bb9b-cfbcb23149dc",
   "metadata": {
    "execution": {
     "iopub.execute_input": "2025-06-11T04:09:09.616605Z",
     "iopub.status.busy": "2025-06-11T04:09:09.616317Z",
     "iopub.status.idle": "2025-06-11T04:09:09.623948Z",
     "shell.execute_reply": "2025-06-11T04:09:09.623048Z",
     "shell.execute_reply.started": "2025-06-11T04:09:09.616584Z"
    }
   },
   "outputs": [
    {
     "data": {
      "text/plain": [
       "6"
      ]
     },
     "execution_count": 5,
     "metadata": {},
     "output_type": "execute_result"
    }
   ],
   "source": [
    "# Let's try adding some numbers\n",
    "1 + 5"
   ]
  },
  {
   "cell_type": "markdown",
   "id": "239843f0-c041-4b3c-b339-2695fbe288e2",
   "metadata": {},
   "source": [
    "As you project evolves, you can refactor your notebook code into functions."
   ]
  },
  {
   "cell_type": "code",
   "execution_count": 6,
   "id": "c9cc30da-8d15-487d-a4b3-c11b8f175ff6",
   "metadata": {
    "execution": {
     "iopub.execute_input": "2025-06-11T04:09:10.508617Z",
     "iopub.status.busy": "2025-06-11T04:09:10.508353Z",
     "iopub.status.idle": "2025-06-11T04:09:10.514488Z",
     "shell.execute_reply": "2025-06-11T04:09:10.513598Z",
     "shell.execute_reply.started": "2025-06-11T04:09:10.508600Z"
    }
   },
   "outputs": [
    {
     "data": {
      "text/plain": [
       "6"
      ]
     },
     "execution_count": 6,
     "metadata": {},
     "output_type": "execute_result"
    }
   ],
   "source": [
    "def add(a, b):\n",
    "    return a + b\n",
    "\n",
    "add(1, 5)"
   ]
  },
  {
   "cell_type": "markdown",
   "id": "cbd71fcf-3b6d-47af-9b0c-240d853b9290",
   "metadata": {},
   "source": [
    "As your functions stabilize you can pull those into the library directory (lib). \n",
    "As an example of this we can see the `calculations.py` file in the `lib` directory."
   ]
  },
  {
   "cell_type": "code",
   "execution_count": 7,
   "id": "089e4461-fa2e-43b9-aa1b-2177b43b04c6",
   "metadata": {
    "execution": {
     "iopub.execute_input": "2025-06-11T04:09:12.138385Z",
     "iopub.status.busy": "2025-06-11T04:09:12.138128Z",
     "iopub.status.idle": "2025-06-11T04:09:12.142374Z",
     "shell.execute_reply": "2025-06-11T04:09:12.141368Z",
     "shell.execute_reply.started": "2025-06-11T04:09:12.138369Z"
    }
   },
   "outputs": [],
   "source": [
    "#| include: false\n",
    "os.chdir(\"/content/\")"
   ]
  },
  {
   "cell_type": "code",
   "execution_count": 8,
   "id": "36216a31-a7b6-48cf-88e2-3c91d0693da6",
   "metadata": {
    "execution": {
     "iopub.execute_input": "2025-06-11T04:09:14.228610Z",
     "iopub.status.busy": "2025-06-11T04:09:14.228362Z",
     "iopub.status.idle": "2025-06-11T04:09:14.235464Z",
     "shell.execute_reply": "2025-06-11T04:09:14.234655Z",
     "shell.execute_reply.started": "2025-06-11T04:09:14.228593Z"
    }
   },
   "outputs": [
    {
     "data": {
      "text/plain": [
       "\u001b[33m\"\"\"Provide several sample math calculations.\u001b[39m\n",
       "\n",
       "\u001b[33mThis module allows the user to make mathematical calculations.\u001b[39m\n",
       "\n",
       "\u001b[33mExamples:\u001b[39m\n",
       "\u001b[33m    >>> from calculator import calculations\u001b[39m\n",
       "\u001b[33m    >>> calculations.add(2, 4)\u001b[39m\n",
       "\u001b[33m    6.0\u001b[39m\n",
       "\u001b[33m    >>> calculations.multiply(2.0, 4.0)\u001b[39m\n",
       "\u001b[33m    8.0\u001b[39m\n",
       "\u001b[33m    >>> from calculator.calculations import divide\u001b[39m\n",
       "\u001b[33m    >>> divide(4.0, 2)\u001b[39m\n",
       "\u001b[33m    2.0\u001b[39m\n",
       "\n",
       "\u001b[33mThe module contains the following functions:\u001b[39m\n",
       "\n",
       "\u001b[33m- `add(a, b)` - Returns the sum of two numbers.\u001b[39m\n",
       "\u001b[33m- `subtract(a, b)` - Returns the difference of two numbers.\u001b[39m\n",
       "\u001b[33m- `multiply(a, b)` - Returns the product of two numbers.\u001b[39m\n",
       "\u001b[33m- `divide(a, b)` - Returns the quotient of two numbers.\u001b[39m\n",
       "\u001b[33m\"\"\"\u001b[39m\n",
       "\n",
       "\n",
       "\u001b[38;5;28;01mfrom\u001b[39;00m typing \u001b[38;5;28;01mimport\u001b[39;00m Union\n",
       "\n",
       "\u001b[38;5;28;01mdef\u001b[39;00m add(a: Union[float, int], b: Union[float, int]) -> float:\n",
       "    \u001b[33m\"\"\"Compute and return the sum of two numbers.\u001b[39m\n",
       "\n",
       "\u001b[33m    Examples:\u001b[39m\n",
       "\u001b[33m        >>> add(4.0, 2.0)\u001b[39m\n",
       "\u001b[33m        6.0\u001b[39m\n",
       "\u001b[33m        >>> add(4, 2)\u001b[39m\n",
       "\u001b[33m        6.0\u001b[39m\n",
       "\n",
       "\u001b[33m    Args:\u001b[39m\n",
       "\u001b[33m        a: A number representing the first addend in the addition.\u001b[39m\n",
       "\u001b[33m        b: A number representing the second addend in the addition.\u001b[39m\n",
       "\n",
       "\u001b[33m    Returns:\u001b[39m\n",
       "\u001b[33m        A number representing the arithmetic sum of `a` and `b`.\u001b[39m\n",
       "\u001b[33m    \"\"\"\u001b[39m\n",
       "    \u001b[38;5;28;01mreturn\u001b[39;00m float(a + b)\n",
       "\n",
       "\u001b[38;5;28;01mdef\u001b[39;00m subtract(a: Union[float, int], b: Union[float, int]) -> float:\n",
       "    \u001b[33m\"\"\"Calculate the difference of two numbers.\u001b[39m\n",
       "\n",
       "\u001b[33m    Examples:\u001b[39m\n",
       "\u001b[33m        >>> subtract(4.0, 2.0)\u001b[39m\n",
       "\u001b[33m        2.0\u001b[39m\n",
       "\u001b[33m        >>> subtract(4, 2)\u001b[39m\n",
       "\u001b[33m        2.0\u001b[39m\n",
       "\n",
       "\u001b[33m    Args:\u001b[39m\n",
       "\u001b[33m        a: A number representing the minuend in the subtraction.\u001b[39m\n",
       "\u001b[33m        b: A number representing the subtrahend in the subtraction.\u001b[39m\n",
       "\n",
       "\u001b[33m    Returns:\u001b[39m\n",
       "\u001b[33m        A number representing the difference between `a` and `b`.\u001b[39m\n",
       "\u001b[33m    \"\"\"\u001b[39m\n",
       "    \u001b[38;5;28;01mreturn\u001b[39;00m float(a - b)\n",
       "\n",
       "\u001b[38;5;28;01mdef\u001b[39;00m multiply(a: Union[float, int], b: Union[float, int]) -> float:\n",
       "    \u001b[33m\"\"\"Compute and return the product of two numbers.\u001b[39m\n",
       "\n",
       "\u001b[33m    Examples:\u001b[39m\n",
       "\u001b[33m        >>> multiply(4.0, 2.0)\u001b[39m\n",
       "\u001b[33m        8.0\u001b[39m\n",
       "\u001b[33m        >>> multiply(4, 2)\u001b[39m\n",
       "\u001b[33m        8.0\u001b[39m\n",
       "\n",
       "\u001b[33m    Args:\u001b[39m\n",
       "\u001b[33m        a: A number representing the multiplicand in the multiplication.\u001b[39m\n",
       "\u001b[33m        b: A number representing the multiplier in the multiplication.\u001b[39m\n",
       "\n",
       "\u001b[33m    Returns:\u001b[39m\n",
       "\u001b[33m        A number representing the product of `a` and `b`.\u001b[39m\n",
       "\u001b[33m    \"\"\"\u001b[39m\n",
       "    \u001b[38;5;28;01mreturn\u001b[39;00m float(a * b)\n",
       "\n",
       "\u001b[38;5;28;01mdef\u001b[39;00m divide(a: Union[float, int], b: Union[float, int]) -> float:\n",
       "    \u001b[33m\"\"\"Compute and return the quotient of two numbers.\u001b[39m\n",
       "\n",
       "\u001b[33m    Examples:\u001b[39m\n",
       "\u001b[33m        >>> divide(4.0, 2.0)\u001b[39m\n",
       "\u001b[33m        2.0\u001b[39m\n",
       "\u001b[33m        >>> divide(4, 2)\u001b[39m\n",
       "\u001b[33m        2.0\u001b[39m\n",
       "\u001b[33m        >>> divide(4, 0)\u001b[39m\n",
       "\u001b[33m        Traceback (most recent call last):\u001b[39m\n",
       "\u001b[33m        ...\u001b[39m\n",
       "\u001b[33m        ZeroDivisionError: division by zero\u001b[39m\n",
       "\n",
       "\u001b[33m    Args:\u001b[39m\n",
       "\u001b[33m        a: A number representing the dividend in the division.\u001b[39m\n",
       "\u001b[33m        b: A number representing the divisor in the division.\u001b[39m\n",
       "\n",
       "\u001b[33m    Returns:\u001b[39m\n",
       "\u001b[33m        A number representing the quotient of `a` and `b`.\u001b[39m\n",
       "\n",
       "\u001b[33m    Raises:\u001b[39m\n",
       "\u001b[33m        ZeroDivisionError: An error occurs when the divisor is `0`.\u001b[39m\n",
       "\u001b[33m    \"\"\"\u001b[39m\n",
       "    \u001b[38;5;28;01mif\u001b[39;00m b == \u001b[32m0\u001b[39m:\n",
       "        \u001b[38;5;28;01mraise\u001b[39;00m ZeroDivisionError(\u001b[33m\"division by zero\"\u001b[39m)\n",
       "    \u001b[38;5;28;01mreturn\u001b[39;00m float(a / b)\n"
      ]
     },
     "metadata": {},
     "output_type": "display_data"
    }
   ],
   "source": [
    "#| echo: false\n",
    "%pycat lib/src/katapult/calculations.py"
   ]
  },
  {
   "cell_type": "markdown",
   "id": "ee4fe2b0-6100-4402-be61-482d928b2c32",
   "metadata": {},
   "source": [
    "We can install the library from the command line with:"
   ]
  },
  {
   "cell_type": "code",
   "execution_count": 9,
   "id": "62e1ec8f-f20b-408b-9a6c-e4724b5bebc8",
   "metadata": {
    "execution": {
     "iopub.execute_input": "2025-06-11T04:09:19.744099Z",
     "iopub.status.busy": "2025-06-11T04:09:19.743340Z",
     "iopub.status.idle": "2025-06-11T04:09:19.748163Z",
     "shell.execute_reply": "2025-06-11T04:09:19.747260Z",
     "shell.execute_reply.started": "2025-06-11T04:09:19.744078Z"
    }
   },
   "outputs": [],
   "source": [
    "#| include: false\n",
    "os.chdir(\"/content/nbk\")"
   ]
  },
  {
   "cell_type": "code",
   "execution_count": 10,
   "id": "4d61c7ad-f510-4194-bbc8-1f1b641e7385",
   "metadata": {
    "execution": {
     "iopub.execute_input": "2025-06-11T04:09:21.273741Z",
     "iopub.status.busy": "2025-06-11T04:09:21.272872Z",
     "iopub.status.idle": "2025-06-11T04:09:22.883946Z",
     "shell.execute_reply": "2025-06-11T04:09:22.883026Z",
     "shell.execute_reply.started": "2025-06-11T04:09:21.273721Z"
    }
   },
   "outputs": [
    {
     "name": "stdout",
     "output_type": "stream",
     "text": [
      "\u001b[2K\u001b[2mResolved \u001b[1m124 packages\u001b[0m \u001b[2min 3ms\u001b[0m\u001b[0m                                         \u001b[0m\n",
      "\u001b[2K\u001b[2mPrepared \u001b[1m1 package\u001b[0m \u001b[2min 543ms\u001b[0m\u001b[0m                                              \n",
      "\u001b[2mUninstalled \u001b[1m1 package\u001b[0m \u001b[2min 17ms\u001b[0m\u001b[0m\n",
      "\u001b[2K\u001b[2mInstalled \u001b[1m1 package\u001b[0m \u001b[2min 11ms\u001b[0m\u001b[0mm file:///content/lib)           \u001b[0m\n",
      "\u001b[2mBytecode compiled \u001b[1m5128 files\u001b[0m \u001b[2min 834ms\u001b[0m\u001b[0m\n",
      " \u001b[33m~\u001b[39m \u001b[1mkatapult\u001b[0m\u001b[2m==0.1.0 (from file:///content/lib)\u001b[0m\n"
     ]
    }
   ],
   "source": [
    "!uv add ../lib/."
   ]
  },
  {
   "cell_type": "code",
   "execution_count": 11,
   "id": "0976ff39-cf0e-4b83-b61c-e561c07f7e1f",
   "metadata": {
    "execution": {
     "iopub.execute_input": "2025-06-11T04:09:25.143680Z",
     "iopub.status.busy": "2025-06-11T04:09:25.143424Z",
     "iopub.status.idle": "2025-06-11T04:09:25.151244Z",
     "shell.execute_reply": "2025-06-11T04:09:25.150386Z",
     "shell.execute_reply.started": "2025-06-11T04:09:25.143661Z"
    }
   },
   "outputs": [
    {
     "data": {
      "text/plain": [
       "6.0"
      ]
     },
     "execution_count": 11,
     "metadata": {},
     "output_type": "execute_result"
    }
   ],
   "source": [
    "from katapult import calculations\n",
    "\n",
    "calculations.add(1, 5)"
   ]
  },
  {
   "cell_type": "markdown",
   "id": "354503c3-8d50-4739-8642-db7ad3de923b",
   "metadata": {},
   "source": [
    "This project can be pushed to github and the library can be installed by specifying \n",
    "the subdirectory. For example:\n",
    "\n",
    "```bash\n",
    "pip install \"git+https://github.com/ajp619/katapult#subdirectory=lib\"\n",
    "```"
   ]
  },
  {
   "cell_type": "markdown",
   "id": "5f0c2adb-bedc-4caf-b542-f9458c82ecc4",
   "metadata": {},
   "source": [
    "## Quarto"
   ]
  }
 ],
 "metadata": {
  "kernelspec": {
   "display_name": "Python 3 (ipykernel)",
   "language": "python",
   "name": "python3"
  },
  "language_info": {
   "codemirror_mode": {
    "name": "ipython",
    "version": 3
   },
   "file_extension": ".py",
   "mimetype": "text/x-python",
   "name": "python",
   "nbconvert_exporter": "python",
   "pygments_lexer": "ipython3",
   "version": "3.12.3"
  }
 },
 "nbformat": 4,
 "nbformat_minor": 5
}
