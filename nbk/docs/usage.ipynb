{
 "cells": [
  {
   "cell_type": "raw",
   "id": "f172abcc-9274-4343-98b2-89e278e72b6d",
   "metadata": {},
   "source": [
    "---\n",
    "format:\n",
    "  html:\n",
    "    embed-resources: true\n",
    "---"
   ]
  },
  {
   "cell_type": "markdown",
   "id": "e0e41209-547a-4354-88de-34c08074ffff",
   "metadata": {},
   "source": [
    "# Usage"
   ]
  },
  {
   "cell_type": "markdown",
   "id": "0980c315-ae02-41ec-a733-9a9c4fe9e20a",
   "metadata": {},
   "source": [
    "Katapult can be used in different ways, but it has an opinion on the way most \n",
    "projects evolve.\n",
    "\n",
    "Typically, projects start in an exploration / experimentation phase. A great tool for \n",
    "this is a Jupyter Notebook."
   ]
  },
  {
   "cell_type": "code",
   "execution_count": 3,
   "id": "90df5d03-4742-4c06-bb9b-cfbcb23149dc",
   "metadata": {
    "execution": {
     "iopub.execute_input": "2025-06-08T23:45:44.631019Z",
     "iopub.status.busy": "2025-06-08T23:45:44.630547Z",
     "iopub.status.idle": "2025-06-08T23:45:44.641248Z",
     "shell.execute_reply": "2025-06-08T23:45:44.640229Z",
     "shell.execute_reply.started": "2025-06-08T23:45:44.630988Z"
    }
   },
   "outputs": [
    {
     "data": {
      "text/plain": [
       "6"
      ]
     },
     "execution_count": 3,
     "metadata": {},
     "output_type": "execute_result"
    }
   ],
   "source": [
    "# Let's try adding some numbers\n",
    "1 + 5"
   ]
  },
  {
   "cell_type": "markdown",
   "id": "239843f0-c041-4b3c-b339-2695fbe288e2",
   "metadata": {},
   "source": [
    "As you project evolves, you can refactor your notebook code into functions."
   ]
  },
  {
   "cell_type": "code",
   "execution_count": 4,
   "id": "c9cc30da-8d15-487d-a4b3-c11b8f175ff6",
   "metadata": {
    "execution": {
     "iopub.execute_input": "2025-06-08T23:46:34.875174Z",
     "iopub.status.busy": "2025-06-08T23:46:34.874852Z",
     "iopub.status.idle": "2025-06-08T23:46:34.881883Z",
     "shell.execute_reply": "2025-06-08T23:46:34.880918Z",
     "shell.execute_reply.started": "2025-06-08T23:46:34.875148Z"
    }
   },
   "outputs": [
    {
     "data": {
      "text/plain": [
       "6"
      ]
     },
     "execution_count": 4,
     "metadata": {},
     "output_type": "execute_result"
    }
   ],
   "source": [
    "def add(a, b):\n",
    "    return a + b\n",
    "\n",
    "add(1, 5)"
   ]
  },
  {
   "cell_type": "code",
   "execution_count": null,
   "id": "9ce33214-ad16-4c5d-87b5-10e14f1f55da",
   "metadata": {},
   "outputs": [],
   "source": []
  }
 ],
 "metadata": {
  "kernelspec": {
   "display_name": "Python 3 (ipykernel)",
   "language": "python",
   "name": "python3"
  },
  "language_info": {
   "codemirror_mode": {
    "name": "ipython",
    "version": 3
   },
   "file_extension": ".py",
   "mimetype": "text/x-python",
   "name": "python",
   "nbconvert_exporter": "python",
   "pygments_lexer": "ipython3",
   "version": "3.12.3"
  }
 },
 "nbformat": 4,
 "nbformat_minor": 5
}
