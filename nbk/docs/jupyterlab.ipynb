{
 "cells": [
  {
   "cell_type": "raw",
   "id": "f172abcc-9274-4343-98b2-89e278e72b6d",
   "metadata": {},
   "source": [
    "---\n",
    "format:\n",
    "  html:\n",
    "    embed-resources: true\n",
    "---"
   ]
  },
  {
   "cell_type": "markdown",
   "id": "bb80d514-f996-47fb-82e9-23e9da614b55",
   "metadata": {},
   "source": [
    "# JupyterLab"
   ]
  },
  {
   "cell_type": "markdown",
   "id": "798e9583-9116-4aff-8158-a2bf92ef0e40",
   "metadata": {},
   "source": [
    "The most basic usage is to just use the JupyterLab server which can be found by going \n",
    "to the project root and using the [Services](../../srv/services.qmd) link.\n",
    "\n",
    "Dependencies are managed with [uv](https://docs.astral.sh/uv/) and can be \n",
    "modified is several different ways:"
   ]
  },
  {
   "cell_type": "markdown",
   "id": "a657ef10-b001-4c84-bb35-e2a72668bc98",
   "metadata": {},
   "source": [
    "## Add dependencies from JupyterLab terminal\n",
    "\n",
    "The primary components of the `nbk/` directory are shown here:"
   ]
  },
  {
   "cell_type": "code",
   "execution_count": 19,
   "id": "f8429c7d-359f-4168-b3a2-980cc2cbbbec",
   "metadata": {
    "execution": {
     "iopub.execute_input": "2025-06-11T15:52:21.844343Z",
     "iopub.status.busy": "2025-06-11T15:52:21.844055Z",
     "iopub.status.idle": "2025-06-11T15:52:21.848360Z",
     "shell.execute_reply": "2025-06-11T15:52:21.847487Z",
     "shell.execute_reply.started": "2025-06-11T15:52:21.844322Z"
    }
   },
   "outputs": [],
   "source": [
    "#| include: false\n",
    "os.chdir(\"/content/\")"
   ]
  },
  {
   "cell_type": "code",
   "execution_count": 22,
   "id": "3b465485-d6e8-4140-98fb-18fe9cc9894e",
   "metadata": {
    "execution": {
     "iopub.execute_input": "2025-06-11T15:55:51.326514Z",
     "iopub.status.busy": "2025-06-11T15:55:51.325771Z",
     "iopub.status.idle": "2025-06-11T15:55:51.445225Z",
     "shell.execute_reply": "2025-06-11T15:55:51.444017Z",
     "shell.execute_reply.started": "2025-06-11T15:55:51.326480Z"
    }
   },
   "outputs": [
    {
     "name": "stdout",
     "output_type": "stream",
     "text": [
      "nbk/\n",
      "├── docs/\n",
      "├── pyproject.toml\n",
      "├── reports/\n",
      "├── uv.lock\n",
      "└── wip/\n",
      "\n",
      "4 directories, 3 files\n"
     ]
    }
   ],
   "source": [
    "#| label: fig-nbk\n",
    "#| echo: false\n",
    "#| fig-cap: \"nbk directory\"\n",
    "!tree -nF nbk -L 1 | grep -v sorted"
   ]
  },
  {
   "cell_type": "markdown",
   "id": "35f631ee-fd7f-4f15-9fc7-40aab41dfb1e",
   "metadata": {},
   "source": [
    "Launching a terminal from JupyterLab will give you a command prompt running from \n",
    "within the container. JupyterLab dependencies are controlled in the `nbk/` directory \n",
    "(see figure above).\n",
    "\n",
    "To add a dependency simply run (from within the `nbk/` directory):\n",
    "```bash\n",
    "uv add xarray # for example\n",
    "```\n",
    "\n",
    "Dependencies are saved in the `pyproject.toml` and `uv.lock` files. See \n",
    "[uv](https://docs.astral.sh/uv/) documentation for more information."
   ]
  },
  {
   "cell_type": "markdown",
   "id": "90d5e843-9920-4b2a-a041-7b1396ff9943",
   "metadata": {},
   "source": [
    "## Add dependencies using `katx connect`"
   ]
  },
  {
   "cell_type": "markdown",
   "id": "6e44fd60-6c3f-4c03-b33d-a92d39c1d944",
   "metadata": {},
   "source": [
    "You can also get a terminal in the container using `katx`.\n",
    "\n",
    "From within your project directory run `katx connect`.\n",
    "\n",
    "Change to your notebook (nbk) directory and use [uv](https://docs.astral.sh/uv/) as \n",
    "described above."
   ]
  },
  {
   "cell_type": "markdown",
   "id": "8db503ed-177e-4141-a2af-2d5c0e70d69e",
   "metadata": {},
   "source": [
    "## Publishing notebooks"
   ]
  },
  {
   "cell_type": "markdown",
   "id": "265366af-f574-4656-b329-ae781cf35bd2",
   "metadata": {},
   "source": [
    "By default, three of the directories have special purposes:\n",
    "\n",
    "* `docs/`  \n",
    "  Notebooks in the `docs/` directory (e.g. this document) are intended to be used in\n",
    "  the general project documentation and referenced from the `documentation.qmd` file in\n",
    "  the `srv/` directory.\n",
    "  \n",
    "* `report/`  \n",
    "  Notebooks in the `reports/` directory are stand alone documents that you can share\n",
    "  with other people. They will automatically appear [here](../../srv/reports.qmd),\n",
    "  and can be downloaded as standalone html files.\n",
    "\n",
    "* `wip/`\n",
    "  Notebooks in the `wip/` directory are stand alone documents that are\n",
    "  under development. As such, they are shareable if you know the link, but not\n",
    "  discoverable when browsing the project website. For example,\n",
    "  [this document](../../nbk/wip/med_2_sorted_lists_1.ipynb) is available through the\n",
    "  given link, but you will not find it while browsing.\n",
    "\n",
    "For more information about publishing, refer to the [Quarto](#quarto) section.\n"
   ]
  }
 ],
 "metadata": {
  "kernelspec": {
   "display_name": "Python 3 (ipykernel)",
   "language": "python",
   "name": "python3"
  },
  "language_info": {
   "codemirror_mode": {
    "name": "ipython",
    "version": 3
   },
   "file_extension": ".py",
   "mimetype": "text/x-python",
   "name": "python",
   "nbconvert_exporter": "python",
   "pygments_lexer": "ipython3",
   "version": "3.12.3"
  }
 },
 "nbformat": 4,
 "nbformat_minor": 5
}
